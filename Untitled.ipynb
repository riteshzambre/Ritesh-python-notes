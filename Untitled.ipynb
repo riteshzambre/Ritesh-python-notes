{
  "metadata": {
    "kernelspec": {
      "name": "python",
      "display_name": "Python (Pyodide)",
      "language": "python"
    },
    "language_info": {
      "codemirror_mode": {
        "name": "python",
        "version": 3
      },
      "file_extension": ".py",
      "mimetype": "text/x-python",
      "name": "python",
      "nbconvert_exporter": "python",
      "pygments_lexer": "ipython3",
      "version": "3.8"
    }
  },
  "nbformat_minor": 5,
  "nbformat": 4,
  "cells": [
    {
      "id": "3baff60e-c841-46ee-825e-b572d13e4b3e",
      "cell_type": "markdown",
      "source": "\n\n### ✅ 10 Multiple-Choice Questions (MCQs) on `for` Loops in Python\n\n**1. What is the correct syntax for a `for` loop in Python?**<br>\nA. `for i to 10:`<br>\nB. `for i = 0 to 10:`<br>\nC. `for i in range(10):`<br>\nD. `foreach i in range(10):`<br>\n**Answer:** \n\n---\n\n**2. What does the following code print?**\n\n```python\nfor i in range(3):\n    print(i)\n```<br>\n\nA. 1 2 3<br>\nB. 0 1 2<br>\nC. 0 1 2 3<br>\nD. 1 2\n**Answer:** \n\n---\n\n**3. Which function is commonly used with `for` loops to create a sequence of numbers?**<br>\nA. `list()`<br>\nB. `range()`<br>\nC. `sequence()`<br>\nD. `enumerate()`\n**Answer:** \n\n---\n\n**4. What will the following code output?**<br>\n\n```python\nfor i in range(2, 6):\n    print(i)\n```\n\nA. 2 3 4 5 6<br>\nB. 2 3 4 5<br>\nC. 3 4 5 6<br>\nD. 3 4 5<br>\n**Answer:** \n\n---\n\n**5. What does `range(2, 10, 2)` return?**<br>\nA. 2 to 10 with step 1<br>\nB. 2 to 10 with step 2<br>\nC. 2, 3, 4, 5, 6, 7, 8, 9<br>\nD. 2, 4, 6, <br>\n**Answer:** \n\n---\n\n**6. How many times will the following loop execute?**<br>\n\n```python\nfor i in range(5):\n    print(\"Hi\")\n```\n\nA. 6<br>\nB. 5<br>\nC. 4<br>\nD. Infinite<br>\n**Answer:** \n\n---\n\n**7. Which of the following will iterate over a list correctly?**<br>\nA. `for i in len(my_list):`<br>\nB. `for i in range(my_list):`<br>\nC. `for i in my_list:`<br>\nD. `for i in range(1, my_list):`<br>\n**Answer:** \n\n---\n\n**8. What is the output?**<br>\n\n```python\nfor i in \"abc\":\n    print(i, end=\"-\")\n```\n\nA. `a-b-c-`<br>\nB. `abc`<br>\nC. `a-b-c`<br>\nD. `a b c`<br>\n**Answer:** \n\n---\n\n**9. What will happen if you try to use `break` in a for loop?**<br>\nA. It causes an error<br>\nB. It continues to the next iteration<br>\nC. It exits the loop<br>\nD. It restarts the loop<br>\n**Answer:** \n\n---\n\n**10. Which keyword skips the current iteration in a `for` loop?**<br>\nA. `skip`<br>\nB. `exit`<br>\nC. `continue`<br>\nD. `pass`<br>\n**Answer:** \n\n---\n",
      "metadata": {}
    },
    {
      "id": "4bffcd61-b239-41a5-a82b-c8495b36d2eb",
      "cell_type": "markdown",
      "source": "\n### 💻 10 Coding Questions on `for` Loops in Python\n\n1. **Print numbers from 1 to 10 using a `for` loop.**\n\n2. **Print all even numbers from 1 to 20 using a `for` loop.**\n\n3. **Calculate the sum of numbers from 1 to 100 using a `for` loop.**\n\n4. **Print the multiplication table of 5 using a `for` loop (from 5x1 to 5x10).**\n\n5. **Given a list `nums = [3, 6, 9, 12]`, print each element using a `for` loop.**\n\n6. **Reverse a string using a `for` loop.**\n\n7. **Print all characters in the string `\"Hello\"` except for the letter `'l'`.**\n\n8. **Count how many vowels are in the string `\"programming\"` using a `for` loop.**\n\n9. **Write a `for` loop that prints numbers from 10 to 1 in reverse.**\n\n10. **Print the square of numbers from 1 to 5 using a `for` loop.**\n\n---\n",
      "metadata": {}
    },
    {
      "id": "eac65a53-f1eb-4676-b0b5-691b5aac6e3b",
      "cell_type": "code",
      "source": "",
      "metadata": {
        "trusted": true
      },
      "outputs": [],
      "execution_count": null
    }
  ]
}